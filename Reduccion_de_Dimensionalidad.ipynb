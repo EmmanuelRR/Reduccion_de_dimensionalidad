{
 "cells": [
  {
   "cell_type": "code",
   "execution_count": 1,
   "id": "fb9b942d",
   "metadata": {},
   "outputs": [],
   "source": [
    "import pickle"
   ]
  },
  {
   "cell_type": "code",
   "execution_count": 4,
   "id": "c9848478",
   "metadata": {},
   "outputs": [
    {
     "data": {
      "text/plain": [
       "'C:\\\\Users\\\\Emmanuel\\\\Udemy'"
      ]
     },
     "execution_count": 4,
     "metadata": {},
     "output_type": "execute_result"
    }
   ],
   "source": [
    "pwd"
   ]
  },
  {
   "cell_type": "code",
   "execution_count": 5,
   "id": "4ba7b439",
   "metadata": {},
   "outputs": [],
   "source": [
    "with open(\"./data/mnist.pkl\", \"rb\") as fname:\n",
    "    mnist = pickle.load(fname)"
   ]
  },
  {
   "cell_type": "code",
   "execution_count": 6,
   "id": "663f1045",
   "metadata": {},
   "outputs": [],
   "source": [
    "mnist_data = mnist[\"training_images\"]\n",
    "mnist_target = mnist[\"training_labels\"]"
   ]
  },
  {
   "cell_type": "code",
   "execution_count": 7,
   "id": "edd2b0a0",
   "metadata": {},
   "outputs": [
    {
     "data": {
      "text/plain": [
       "(60000, 784)"
      ]
     },
     "execution_count": 7,
     "metadata": {},
     "output_type": "execute_result"
    }
   ],
   "source": [
    "mnist_data.shape"
   ]
  },
  {
   "cell_type": "code",
   "execution_count": 8,
   "id": "fd8c7a9b",
   "metadata": {},
   "outputs": [
    {
     "data": {
      "text/plain": [
       "array([56422, 15795,   860, ...,  9484,  5495, 28481])"
      ]
     },
     "execution_count": 8,
     "metadata": {},
     "output_type": "execute_result"
    }
   ],
   "source": [
    "import numpy as np\n",
    "sample_size = 10000\n",
    "np.random.seed(42)\n",
    "random_sample_index = np.random.randint(0, mnist_data.shape[0], sample_size)\n",
    "random_sample_index"
   ]
  },
  {
   "cell_type": "code",
   "execution_count": 9,
   "id": "2fca0967",
   "metadata": {},
   "outputs": [],
   "source": [
    "mnist_muestra_pixeles = mnist_data[random_sample_index]\n",
    "mnist_muestra_clase = mnist_target[random_sample_index]"
   ]
  },
  {
   "cell_type": "code",
   "execution_count": 12,
   "id": "4586fbae",
   "metadata": {},
   "outputs": [],
   "source": [
    "from sklearn.preprocessing import StandardScaler\n",
    "from sklearn.decomposition import PCA\n",
    "scalador = StandardScaler()\n",
    "scalador.fit(mnist_muestra_pixeles)\n",
    "mnist_escalado = scalador.transform(mnist_muestra_pixeles)\n",
    "\n",
    "pca = PCA(n_components=10)\n",
    "pca.fit(mnist_escalado)\n",
    "\n",
    "mnist_pca = pca.transform(mnist_escalado)"
   ]
  },
  {
   "cell_type": "code",
   "execution_count": 13,
   "id": "e6a2336f",
   "metadata": {},
   "outputs": [
    {
     "data": {
      "text/plain": [
       "(10000, 10)"
      ]
     },
     "execution_count": 13,
     "metadata": {},
     "output_type": "execute_result"
    }
   ],
   "source": [
    "mnist_pca.shape"
   ]
  },
  {
   "cell_type": "code",
   "execution_count": 18,
   "id": "b85bb8e4",
   "metadata": {},
   "outputs": [],
   "source": [
    "from sklearn.model_selection import cross_val_score\n",
    "from sklearn.svm import SVC\n",
    "from sklearn.metrics import f1_score"
   ]
  },
  {
   "cell_type": "code",
   "execution_count": 19,
   "id": "52d011fc",
   "metadata": {},
   "outputs": [],
   "source": [
    "def f1_score_micro(estimador,X, y):\n",
    "  preds=estimador.predict(X)\n",
    "  return f1_score(y, preds, average= 'micro')\n",
    "\n",
    "def f1_score_macro(estimador,X, y):\n",
    "  preds=estimador.predict(X)\n",
    "  return f1_score(y, preds, average= 'macro')\n",
    "\n",
    "def f1_score_weighted(estimador,X, y):\n",
    "  preds=estimador.predict(X)\n",
    "  return f1_score(y, preds, average= 'weighted')"
   ]
  },
  {
   "cell_type": "code",
   "execution_count": 20,
   "id": "163abfc8",
   "metadata": {},
   "outputs": [],
   "source": [
    "estimador_svm_cross_micro=SVC()\n",
    "error_cvs_micro=cross_val_score(estimador_svm_cross_micro, mnist_pca, mnist_muestra_clase, scoring=f1_score_micro).mean()\n",
    "\n",
    "estimador_svm_cross_macro=SVC()\n",
    "error_cvs_macro=cross_val_score(estimador_svm_cross_macro,  mnist_pca, mnist_muestra_clase, scoring=f1_score_macro).mean()\n",
    "\n",
    "estimador_svm_cross_weighted=SVC()\n",
    "error_cvs_weighted=cross_val_score(estimador_svm_cross_weighted,  mnist_pca, mnist_muestra_clase, scoring=f1_score_weighted).mean()"
   ]
  },
  {
   "cell_type": "code",
   "execution_count": 21,
   "id": "0e7a32f3",
   "metadata": {},
   "outputs": [
    {
     "data": {
      "text/plain": [
       "{'metrica micro': 0.9029999999999999,\n",
       " 'metrica macro': 0.9012710323683614,\n",
       " 'metrica weigted': 0.902869926969219}"
      ]
     },
     "execution_count": 21,
     "metadata": {},
     "output_type": "execute_result"
    }
   ],
   "source": [
    "resultados={'metrica micro': error_cvs_micro,\n",
    "           'metrica macro': error_cvs_macro,\n",
    "           'metrica weigted': error_cvs_weighted}\n",
    "resultados"
   ]
  },
  {
   "cell_type": "code",
   "execution_count": null,
   "id": "77f10979",
   "metadata": {},
   "outputs": [],
   "source": []
  }
 ],
 "metadata": {
  "kernelspec": {
   "display_name": "Python 3 (ipykernel)",
   "language": "python",
   "name": "python3"
  },
  "language_info": {
   "codemirror_mode": {
    "name": "ipython",
    "version": 3
   },
   "file_extension": ".py",
   "mimetype": "text/x-python",
   "name": "python",
   "nbconvert_exporter": "python",
   "pygments_lexer": "ipython3",
   "version": "3.9.7"
  }
 },
 "nbformat": 4,
 "nbformat_minor": 5
}
